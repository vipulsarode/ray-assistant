{
 "cells": [
  {
   "cell_type": "code",
   "execution_count": 15,
   "metadata": {},
   "outputs": [],
   "source": [
    "from pathlib import Path\n",
    "from rag.data import extract_sections\n",
    "from functools import partial\n",
    "import ray\n",
    "import langchain\n",
    "from langchain.document_loaders import ReadTheDocsLoader\n",
    "from langchain.text_splitter import RecursiveCharacterTextSplitter\n",
    "from langchain.embeddings import OpenAIEmbeddings\n",
    "from langchain.embeddings.huggingface import HuggingFaceEmbeddings\n",
    "import numpy as np\n",
    "from ray.data import ActorPoolStrategy\n",
    "import os\n",
    "import psycopg\n",
    "from pgvector.psycopg import register_vector\n"
   ]
  },
  {
   "cell_type": "code",
   "execution_count": 3,
   "metadata": {},
   "outputs": [],
   "source": [
    "EFS_DIR = 'ray-data'"
   ]
  },
  {
   "cell_type": "code",
   "execution_count": 4,
   "metadata": {},
   "outputs": [
    {
     "name": "stderr",
     "output_type": "stream",
     "text": [
      "2024-10-02 20:39:26,051\tINFO worker.py:1601 -- Connecting to existing Ray cluster at address: 127.0.0.1:6379...\n",
      "2024-10-02 20:39:26,055\tINFO worker.py:1786 -- Connected to Ray cluster.\n"
     ]
    },
    {
     "name": "stdout",
     "output_type": "stream",
     "text": [
      "3609 documents\n"
     ]
    }
   ],
   "source": [
    "DOCS_DIR = Path(EFS_DIR, \"docs.ray.io/en/master/\")\n",
    "ds = ray.data.from_items([{\"path\": path} for path in DOCS_DIR.rglob(\"*.html\") if not path.is_dir()])\n",
    "print(f\"{ds.count()} documents\")"
   ]
  },
  {
   "cell_type": "code",
   "execution_count": 5,
   "metadata": {},
   "outputs": [
    {
     "data": {
      "application/vnd.jupyter.widget-view+json": {
       "model_id": "bbeeb5c84cd6453bab7cff84265f6855",
       "version_major": 2,
       "version_minor": 0
      },
      "text/plain": [
       "MaterializedDataset(\n",
       "   num_blocks=200,\n",
       "   num_rows=3609,\n",
       "   schema={\n",
       "      path: extension<ray.data.arrow_pickled_object<ArrowPythonObjectType>>\n",
       "   }\n",
       ")"
      ]
     },
     "execution_count": 5,
     "metadata": {},
     "output_type": "execute_result"
    }
   ],
   "source": [
    "ds"
   ]
  },
  {
   "cell_type": "code",
   "execution_count": 6,
   "metadata": {},
   "outputs": [
    {
     "data": {
      "text/plain": [
       "{'source': 'https://docs.ray.io/en/master/rllib/rllib-env.html#environments',\n",
       " 'text': '\\nEnvironments#\\nRLlib works with several different types of environments, including Farama-Foundation Gymnasium, user-defined, multi-agent, and also batched environments.\\nTip\\nNot all environments work with all algorithms. See the algorithm overview for more information.\\n'}"
      ]
     },
     "execution_count": 6,
     "metadata": {},
     "output_type": "execute_result"
    }
   ],
   "source": [
    "sample_html_fp = Path(EFS_DIR, \"docs.ray.io/en/master/rllib/rllib-env.html\")\n",
    "extract_sections({\"path\": sample_html_fp})[0]"
   ]
  },
  {
   "cell_type": "code",
   "execution_count": 7,
   "metadata": {},
   "outputs": [
    {
     "name": "stderr",
     "output_type": "stream",
     "text": [
      "2024-10-02 20:39:26,971\tINFO streaming_executor.py:108 -- Starting execution of Dataset. Full logs are in /tmp/ray/session_2024-10-02_20-38-53_197114_69991/logs/ray-data\n",
      "2024-10-02 20:39:26,972\tINFO streaming_executor.py:109 -- Execution plan of Dataset: InputDataBuffer[Input] -> TaskPoolMapOperator[FlatMap(extract_sections)]\n"
     ]
    },
    {
     "data": {
      "application/vnd.jupyter.widget-view+json": {
       "model_id": "b7a868c0dfc2435b91dc3d9dde4b559d",
       "version_major": 2,
       "version_minor": 0
      },
      "text/plain": [
       "Running 0: 0.00 row [00:00, ? row/s]"
      ]
     },
     "metadata": {},
     "output_type": "display_data"
    },
    {
     "data": {
      "application/vnd.jupyter.widget-view+json": {
       "model_id": "6f85ff50dc1a446694e54ad3bbf28645",
       "version_major": 2,
       "version_minor": 0
      },
      "text/plain": [
       "- FlatMap(extract_sections) 1: 0.00 row [00:00, ? row/s]"
      ]
     },
     "metadata": {},
     "output_type": "display_data"
    },
    {
     "name": "stdout",
     "output_type": "stream",
     "text": [
      "6290\n"
     ]
    }
   ],
   "source": [
    "sections_ds = ds.flat_map(extract_sections)\n",
    "sections = sections_ds.take_all()\n",
    "print(len(sections))"
   ]
  },
  {
   "cell_type": "code",
   "execution_count": 8,
   "metadata": {},
   "outputs": [
    {
     "name": "stderr",
     "output_type": "stream",
     "text": [
      "2024-10-02 20:39:55,599\tINFO dataset.py:2416 -- Tip: Use `take_batch()` instead of `take() / show()` to return records in pandas or numpy batch format.\n",
      "2024-10-02 20:39:55,602\tINFO streaming_executor.py:108 -- Starting execution of Dataset. Full logs are in /tmp/ray/session_2024-10-02_20-38-53_197114_69991/logs/ray-data\n",
      "2024-10-02 20:39:55,602\tINFO streaming_executor.py:109 -- Execution plan of Dataset: InputDataBuffer[Input] -> TaskPoolMapOperator[FlatMap(extract_sections)] -> LimitOperator[limit=1]\n"
     ]
    },
    {
     "data": {
      "application/vnd.jupyter.widget-view+json": {
       "model_id": "c1bb8bfd683e4c12bc11709cd67fc0cc",
       "version_major": 2,
       "version_minor": 0
      },
      "text/plain": [
       "Running 0: 0.00 row [00:00, ? row/s]"
      ]
     },
     "metadata": {},
     "output_type": "display_data"
    },
    {
     "data": {
      "application/vnd.jupyter.widget-view+json": {
       "model_id": "ed0b504fecf44d6fa41208cb1fcf0405",
       "version_major": 2,
       "version_minor": 0
      },
      "text/plain": [
       "- FlatMap(extract_sections) 1: 0.00 row [00:00, ? row/s]"
      ]
     },
     "metadata": {},
     "output_type": "display_data"
    },
    {
     "data": {
      "application/vnd.jupyter.widget-view+json": {
       "model_id": "3faa522d1aa54b3a82ac3e8934f05749",
       "version_major": 2,
       "version_minor": 0
      },
      "text/plain": [
       "- limit=1 2: 0.00 row [00:00, ? row/s]"
      ]
     },
     "metadata": {},
     "output_type": "display_data"
    },
    {
     "name": "stdout",
     "output_type": "stream",
     "text": [
      "page_content='Python SDK Overview#\\nThe Ray Jobs Python SDK is the recommended way to submit jobs programmatically. Jump to the API Reference, or continue reading for a quick overview.' metadata={'source': 'https://docs.ray.io/en/master/cluster/running-applications/job-submission/sdk.html#python-sdk-overview'}\n"
     ]
    }
   ],
   "source": [
    "chunk_size = 300\n",
    "chunk_overlap = 50\n",
    "\n",
    "text_splitter = RecursiveCharacterTextSplitter(separators = [\"\\n\\n\", \"\\n\", \" \", \"\"],chunk_size = chunk_size, chunk_overlap = chunk_overlap, length_function = len)\n",
    "\n",
    "# chunk a sample section\n",
    "\n",
    "sample_section = sections_ds.take(1)[0]\n",
    "chunks = text_splitter.create_documents(texts = [sample_section['text']], metadatas = [{\"source\" : sample_section['source']}])\n",
    "print(chunks[0])"
   ]
  },
  {
   "cell_type": "code",
   "execution_count": 9,
   "metadata": {},
   "outputs": [
    {
     "name": "stderr",
     "output_type": "stream",
     "text": [
      "2024-10-02 20:39:56,534\tINFO streaming_executor.py:108 -- Starting execution of Dataset. Full logs are in /tmp/ray/session_2024-10-02_20-38-53_197114_69991/logs/ray-data\n",
      "2024-10-02 20:39:56,535\tINFO streaming_executor.py:109 -- Execution plan of Dataset: InputDataBuffer[Input] -> TaskPoolMapOperator[FlatMap(extract_sections)->FlatMap(partial)]\n"
     ]
    },
    {
     "data": {
      "application/vnd.jupyter.widget-view+json": {
       "model_id": "dd4798ec8aa54712b1eb8e57f20a1949",
       "version_major": 2,
       "version_minor": 0
      },
      "text/plain": [
       "Running 0: 0.00 row [00:00, ? row/s]"
      ]
     },
     "metadata": {},
     "output_type": "display_data"
    },
    {
     "data": {
      "application/vnd.jupyter.widget-view+json": {
       "model_id": "a17978b3fb5e448d87e425694616e30f",
       "version_major": 2,
       "version_minor": 0
      },
      "text/plain": [
       "- FlatMap(extract_sections)->FlatMap(partial) 1: 0.00 row [00:00, ? row/s]"
      ]
     },
     "metadata": {},
     "output_type": "display_data"
    },
    {
     "name": "stderr",
     "output_type": "stream",
     "text": [
      "2024-10-02 20:40:26,660\tINFO streaming_executor.py:108 -- Starting execution of Dataset. Full logs are in /tmp/ray/session_2024-10-02_20-38-53_197114_69991/logs/ray-data\n",
      "2024-10-02 20:40:26,661\tINFO streaming_executor.py:109 -- Execution plan of Dataset: InputDataBuffer[Input] -> TaskPoolMapOperator[FlatMap(extract_sections)->FlatMap(partial)] -> LimitOperator[limit=1]\n"
     ]
    },
    {
     "name": "stdout",
     "output_type": "stream",
     "text": [
      "32086 chunks\n"
     ]
    },
    {
     "data": {
      "application/vnd.jupyter.widget-view+json": {
       "model_id": "a1ed8eb8a85043d390407734763ebc6c",
       "version_major": 2,
       "version_minor": 0
      },
      "text/plain": [
       "Running 0: 0.00 row [00:00, ? row/s]"
      ]
     },
     "metadata": {},
     "output_type": "display_data"
    },
    {
     "data": {
      "application/vnd.jupyter.widget-view+json": {
       "model_id": "7a8e60b33ee14cb48278bb788e416465",
       "version_major": 2,
       "version_minor": 0
      },
      "text/plain": [
       "- FlatMap(extract_sections)->FlatMap(partial) 1: 0.00 row [00:00, ? row/s]"
      ]
     },
     "metadata": {},
     "output_type": "display_data"
    },
    {
     "data": {
      "application/vnd.jupyter.widget-view+json": {
       "model_id": "c0cf539bfc1049978922a353c7649bf1",
       "version_major": 2,
       "version_minor": 0
      },
      "text/plain": [
       "- limit=1 2: 0.00 row [00:00, ? row/s]"
      ]
     },
     "metadata": {},
     "output_type": "display_data"
    },
    {
     "name": "stdout",
     "output_type": "stream",
     "text": [
      "{'text': 'Python SDK Overview#\\nThe Ray Jobs Python SDK is the recommended way to submit jobs programmatically. Jump to the API Reference, or continue reading for a quick overview.', 'source': 'https://docs.ray.io/en/master/cluster/running-applications/job-submission/sdk.html#python-sdk-overview'}\n"
     ]
    }
   ],
   "source": [
    "def chunk_section(section, chunk_size, chunk_overlap):\n",
    "    splitter = RecursiveCharacterTextSplitter(separators = [\"\\n\\n\", \"\\n\", \" \", \"\"], chunk_size = chunk_size, chunk_overlap = chunk_overlap, length_function = len)\n",
    "    docs = splitter.create_documents(texts = [section['text']], metadatas = [{'source': section['source']}])\n",
    "    return [{'text' : doc.page_content, 'source' : doc.metadata['source']} for doc in docs]\n",
    "\n",
    "\n",
    "#scaling up chunking\n",
    "chunks_ds = sections_ds.flat_map(partial(chunk_section, chunk_size = chunk_size, chunk_overlap = chunk_overlap))\n",
    "print(f\"{chunks_ds.count()} chunks\")\n",
    "chunks_ds.show(1)"
   ]
  },
  {
   "cell_type": "code",
   "execution_count": 10,
   "metadata": {},
   "outputs": [],
   "source": [
    "class Embeddings:\n",
    "\n",
    "    def __init__(self, model_name):\n",
    "        if model_name == \"text-embedding-ada-002\":\n",
    "            self.model = OpenAIEmbeddings(model = model_name, openai_api_base=os.environ[\"OPENAI_API_BASE\"], openai_api_key=os.environ[\"OPENAI_API_KEY\"])\n",
    "\n",
    "        else:\n",
    "            self.model = HuggingFaceEmbeddings(model_name = model_name, model_kwargs={'device' : 'mps'}, encode_kwargs = {'device' : 'mps', 'batch_size' : 100})\n",
    "\n",
    "    def __call__(self, batch):\n",
    "        embeddings = self.model.embed_documents(batch[\"text\"])\n",
    "\n",
    "        return {\"text\": batch[\"text\"], \"source\": batch[\"source\"], \"embeddings\": embeddings}"
   ]
  },
  {
   "cell_type": "code",
   "execution_count": 11,
   "metadata": {},
   "outputs": [],
   "source": [
    "embedding_model_name = \"thenlper/gte-base\"\n",
    "embedded_chunks = chunks_ds.map_batches(Embeddings, fn_constructor_kwargs={'model_name' : embedding_model_name}, batch_size = 100, num_cpus = 1, num_gpus=0, concurrency =  2)"
   ]
  },
  {
   "cell_type": "code",
   "execution_count": 12,
   "metadata": {},
   "outputs": [
    {
     "name": "stderr",
     "output_type": "stream",
     "text": [
      "2024-10-02 20:40:27,639\tINFO streaming_executor.py:108 -- Starting execution of Dataset. Full logs are in /tmp/ray/session_2024-10-02_20-38-53_197114_69991/logs/ray-data\n",
      "2024-10-02 20:40:27,640\tINFO streaming_executor.py:109 -- Execution plan of Dataset: InputDataBuffer[Input] -> ActorPoolMapOperator[FlatMap(extract_sections)->FlatMap(partial)->MapBatches(Embeddings)] -> LimitOperator[limit=1]\n"
     ]
    },
    {
     "data": {
      "application/vnd.jupyter.widget-view+json": {
       "model_id": "6e8803f1c3984c348a6aace9eab395b9",
       "version_major": 2,
       "version_minor": 0
      },
      "text/plain": [
       "Running 0: 0.00 row [00:00, ? row/s]"
      ]
     },
     "metadata": {},
     "output_type": "display_data"
    },
    {
     "data": {
      "application/vnd.jupyter.widget-view+json": {
       "model_id": "e2f5d4d526ee420596260e049992c9d6",
       "version_major": 2,
       "version_minor": 0
      },
      "text/plain": [
       "- FlatMap(extract_sections)->FlatMap(partial)->MapBatches(Embeddings) 1: 0.00 row [00:00, ? row/s]"
      ]
     },
     "metadata": {},
     "output_type": "display_data"
    },
    {
     "data": {
      "application/vnd.jupyter.widget-view+json": {
       "model_id": "531d41e930ab4e2a9f68f6fa3d9ea147",
       "version_major": 2,
       "version_minor": 0
      },
      "text/plain": [
       "- limit=1 2: 0.00 row [00:00, ? row/s]"
      ]
     },
     "metadata": {},
     "output_type": "display_data"
    },
    {
     "name": "stderr",
     "output_type": "stream",
     "text": [
      "2024-10-02 20:40:35,357\tWARNING progress_bar.py:122 -- Truncating long operator name to 100 characters.To disable this behavior, set `ray.data.DataContext.get_current().DEFAULT_ENABLE_PROGRESS_BAR_NAME_TRUNCATION = False`.\n",
      "2024-10-02 20:40:43,713\tWARNING actor_pool_map_operator.py:265 -- To ensure full parallelization across an actor pool of size 2, the Dataset should consist of at least 2 distinct blocks. Consider increasing the parallelism when creating the Dataset.\n"
     ]
    },
    {
     "name": "stdout",
     "output_type": "stream",
     "text": [
      "{'text': 'ray.job_submission.JobType.endswith#\\nJobType.endswith(suffix[, start[, end]]) → bool#\\nReturn True if S ends with the specified suffix, False otherwise.\\nWith optional start, test S beginning at that position.\\nWith optional end, stop comparing S at that position.', 'source': 'https://docs.ray.io/en/master/cluster/running-applications/job-submission/doc/ray.job_submission.JobType.endswith.html#ray-job-submission-jobtype-endswith', 'embeddings': [0.0066557652316987514, -0.02076447755098343, -0.007583048194646835, 0.015573485754430294, 0.028178909793496132, 0.038403771817684174, 0.030573192983865738, -0.005029419902712107, -0.031879961490631104, -0.07003326714038849, -0.04981723055243492, 0.028296630829572678, -0.05013647675514221, 0.0525132492184639, 0.008815379813313484, 0.06466109305620193, 0.04170697554945946, -0.005238746292889118, 0.0225755013525486, -0.04484710097312927, 0.007457794155925512, 0.00285573722794652, -0.008171087130904198, 0.017116604372859, 0.0369340255856514, -0.004522563423961401, -0.028449639678001404, 0.01997731439769268, -0.05851178243756294, -0.0038622748106718063, 0.03450688347220421, -0.006631981115788221, -0.011842593550682068, 0.009715380147099495, 0.031746383756399155, -0.02690175734460354, -0.0037981951609253883, -0.016844522207975388, -0.02533075585961342, -0.04016360267996788, -0.047306403517723083, -0.006654080934822559, -0.03702225908637047, 0.0015124696074053645, -0.029546009376645088, -0.006677133962512016, -0.041203975677490234, 0.00721485260874033, -0.02463478408753872, 0.0064040543511509895, -0.06791754066944122, 0.04539136216044426, 0.014625323005020618, -0.020746814087033272, -0.0065917870961129665, 0.030589530244469643, 0.02394380234181881, -0.041556037962436676, 0.012565426528453827, -0.06199605017900467, 0.007268452551215887, -0.025830596685409546, 0.02326403185725212, 0.011156225576996803, 0.046185050159692764, -0.009641660377383232, 0.036070920526981354, 0.054417435079813004, -0.09344888478517532, -0.006345666479319334, -0.05711585283279419, 0.0009691379382275045, 0.027820756658911705, 0.010700184851884842, 0.020362375304102898, -0.032263848930597305, -0.02915722317993641, 0.02586086466908455, 0.02435988560318947, 0.020951347425580025, -0.03179439902305603, 0.017567140981554985, 0.02389974147081375, 0.03662334755063057, -0.0017539726104587317, -0.032173171639442444, -0.02383854053914547, -0.019740579649806023, -0.008905697613954544, 0.052079904824495316, -0.019911229610443115, -0.02594076097011566, 0.01937943696975708, 0.06556585431098938, -0.0026408242993056774, -0.010251875966787338, 0.001270371489226818, 0.012793933972716331, -0.0003383295552339405, 0.020123250782489777, -0.03606939688324928, -0.022308098152279854, 0.009843665175139904, 0.01959036849439144, -0.09165626764297485, -0.023794444277882576, 0.0013027280801907182, 0.026206644251942635, 0.013300594873726368, 0.013458147644996643, 0.0035840640775859356, 0.0026320824399590492, -0.01408039778470993, 0.013706686906516552, -0.0351102240383625, 0.10323536396026611, -0.005825221538543701, -0.0180515106767416, -0.021710839122533798, -0.029497217386960983, 0.0547509640455246, 0.021097276359796524, 0.019152717664837837, 0.10570565611124039, 0.007846463471651077, 0.014893487095832825, -0.03431548923254013, 0.06250336766242981, -0.03233754634857178, -0.06724797189235687, 0.02358645386993885, 0.07367277890443802, -0.005275104660540819, -0.007100378628820181, -0.023951031267642975, 0.02554846741259098, 0.001702917623333633, -0.004938891157507896, 0.029570791870355606, -0.008941694162786007, 0.010781500488519669, -0.0054599931463599205, -0.004910659044981003, -0.014451144263148308, 0.04543409124016762, -0.037985872477293015, 0.01611926034092903, -0.06148521229624748, -0.013112642802298069, 0.028024114668369293, -0.02152356505393982, 0.0026535585056990385, 0.021982893347740173, -0.060636457055807114, 0.015078719705343246, 0.029811831191182137, -0.00452512176707387, 0.016583219170570374, -0.02244766615331173, 0.007214815355837345, 0.062444403767585754, -0.019913332536816597, 0.011603660881519318, 0.011081740260124207, -0.010646398179233074, 0.03712036460638046, -0.009330072440207005, -0.010822276584804058, 0.005407767836004496, 0.057976946234703064, -0.022895803675055504, -0.007139679044485092, 0.09597142040729523, -0.060005832463502884, 0.027004139497876167, -0.037436023354530334, 0.10472158342599869, 0.00693536875769496, 0.019828585907816887, 0.0005398064386099577, -0.09347221255302429, 0.03444512188434601, -0.01394784078001976, 0.06940963864326477, -0.020696382969617844, -0.04618770256638527, 0.05423165112733841, 0.008670137263834476, 0.006698261015117168, -0.023707754909992218, -0.0838790312409401, -0.08123444765806198, -0.00023031876480672508, -0.025584768503904343, 0.04734918847680092, -0.02346053346991539, -0.022633692249655724, 0.019902830943465233, -0.012523680925369263, 0.049429308623075485, -0.009460163302719593, -0.022826069965958595, -0.019864318892359734, -0.030314473435282707, -0.0695241242647171, 0.06140197068452835, -0.012014664709568024, -0.006091726012527943, 0.0038126343861222267, 0.07129543274641037, 0.006359322462230921, 0.005881802178919315, 0.025255901739001274, -0.017003023996949196, 0.04596008360385895, 0.043446775525808334, 0.009795838966965675, -0.03760716691613197, 0.05400810018181801, -0.056713126599788666, 0.041742581874132156, -0.021529898047447205, -0.02441561408340931, 0.005906088277697563, -0.022934269160032272, 0.0818588063120842, 0.058535609394311905, -0.05795472860336304, -0.012097998522222042, -0.0022141695953905582, -0.001981184585019946, -0.020222201943397522, 0.03743039071559906, 0.008128608576953411, 0.003167310729622841, 0.03237181156873703, -0.006791062653064728, -0.050284478813409805, 0.06574732065200806, -0.046940553933382034, -0.0024573500268161297, 0.0533091276884079, -0.010123519226908684, 0.033730648458004, 0.025805043056607246, -0.03875374421477318, 0.043174754828214645, 0.0017382163787260652, -0.054047174751758575, -0.012743539176881313, -0.03987553343176842, -0.048060160130262375, 0.019777104258537292, -0.01389581523835659, -0.017772814258933067, -0.053786177188158035, -0.01771971955895424, 0.015330404974520206, 0.06723518669605255, 0.0429663211107254, -0.014357708394527435, 0.004708063788712025, -0.019284678623080254, -0.02052486687898636, -0.020428400486707687, -0.06439033150672913, -0.06472492218017578, 0.042823806405067444, 0.02058161422610283, -0.0068705338053405285, 0.031767167150974274, -0.005127139389514923, 0.016444629058241844, -0.01025176327675581, -0.05157499387860298, 0.038948092609643936, 0.05465498939156532, 0.018383027985692024, -0.009929117746651173, -0.04506045579910278, 0.009798132814466953, 0.037249308079481125, 0.000668888445943594, -0.039834581315517426, 0.020923562347888947, -0.05059671029448509, 0.02146179787814617, -0.0186760313808918, -0.06761625409126282, -0.0036851102486252785, -0.007724530529230833, 0.016065198928117752, -0.030315876007080078, 0.0037576176691800356, 0.022844387218356133, -0.004872423131018877, 0.02515285089612007, 0.03628188744187355, 0.022913634777069092, -0.0315263457596302, 0.04242658615112305, 0.041230425238609314, 0.024743497371673584, -0.01908094249665737, 0.008720077574253082, -0.009504390880465508, -0.0326894111931324, -0.05810421332716942, -0.2162153422832489, 0.014753475785255432, -0.03850448131561279, -0.05521583557128906, 0.06686863303184509, 0.012560772709548473, 0.029637126252055168, -0.031178461387753487, -0.020282339304685593, 0.031599778681993484, -0.05219494178891182, -0.0007936567417345941, 0.015647055581212044, 0.05399134382605553, 0.04328082501888275, 0.02027002163231373, -0.012730022892355919, -0.028340041637420654, 0.018506141379475594, 0.022892571985721588, -0.03902552276849747, -0.04791323468089104, -0.022796036675572395, -0.006341384723782539, 0.026123004034161568, 0.0885825902223587, -0.037175506353378296, -0.010427331551909447, -0.04617784544825554, -0.04549354687333107, -0.015818670392036438, -0.027966713532805443, 0.01642417535185814, 0.014175853691995144, 0.016969243064522743, -0.014108962379395962, 0.04038701951503754, -0.020548196509480476, 0.02748551405966282, -0.03420812264084816, -0.03839200362563133, -0.029019301757216454, -0.04754117876291275, -0.021219898015260696, 0.029445048421621323, -0.04221788048744202, -0.018606962636113167, -0.021348489448428154, -0.008294682018458843, 0.047862689942121506, 0.015088234096765518, 0.00867615919560194, -0.02215535193681717, 0.0162834282964468, 0.013893797993659973, -0.008270978927612305, -0.014996622689068317, 0.026617633178830147, -0.02738676778972149, -0.02653641067445278, -0.012499888427555561, -0.03284911438822746, -0.0426638200879097, -0.04163201153278351, -0.028748875483870506, -0.042912863194942474, -0.031048018485307693, -0.037461064755916595, 0.06344389915466309, 0.006547374185174704, 0.0008017580839805305, 0.002177182585000992, 0.020002469420433044, -0.07423977553844452, 0.005751964170485735, -0.01921858824789524, -0.005816377233713865, -0.025377649813890457, 0.030286893248558044, 0.01357557624578476, -0.03275834023952484, -0.02920684963464737, 0.06612417101860046, 0.01584244705736637, 0.0045292992144823074, -0.03259969875216484, 0.005367816425859928, 0.021594064310193062, -0.03098072111606598, -0.016645364463329315, 0.05625681206583977, 0.0034543219953775406, -0.022763997316360474, -0.012207161635160446, 0.07964230328798294, 0.06858955323696136, 0.016135668382048607, -0.010509366169571877, 0.032349005341529846, 0.012137302197515965, 0.07443525642156601, -0.0808381587266922, 0.0364484004676342, 0.00037198574864305556, 0.01731841452419758, 0.006587610114365816, -0.05384081229567528, 0.014820278622210026, 0.043347813189029694, -0.002779425820335746, 0.042187370359897614, 0.007317997980862856, -0.0036301526706665754, -0.0750473365187645, -0.007033534348011017, -0.06916194409132004, 0.02052070014178753, 0.03024136647582054, 0.0067486814223229885, 0.03522036597132683, -0.036922283470630646, 0.016371922567486763, -0.060696523636579514, -0.039073094725608826, -0.08892439305782318, 0.005803822074085474, -0.016775373369455338, 0.015847673639655113, 0.02168235182762146, 0.014065477065742016, -0.03466580808162689, 0.02202945575118065, 0.008806109428405762, -0.002348225098103285, 0.02403954789042473, -0.014086242765188217, -0.04823152720928192, -0.048081282526254654, 0.0012791359331458807, -0.004989126231521368, 0.0021334162447601557, -0.0017763425130397081, -0.003022598335519433, 0.01861662231385708, 0.055285315960645676, 0.018046731129288673, -0.007604182697832584, -0.02646647021174431, -0.004375293850898743, 0.02202202007174492, 0.0036660274490714073, -0.03670031577348709, 0.0013400929747149348, -0.07380405068397522, 0.014945166185498238, -0.02392873913049698, 0.03674696385860443, -0.011583574116230011, -0.05025271326303482, -0.08373913168907166, -0.027016697451472282, -0.052710313349962234, -0.008184930309653282, 0.011059198528528214, -0.008511879481375217, 0.07402051240205765, -0.018701059743762016, 0.0011011387687176466, -0.0270396638661623, 0.01512768492102623, -0.02467973157763481, 0.022945750504732132, -0.00848961528390646, 0.042673464864492416, 0.01911928318440914, 0.0106789106503129, -0.008466261439025402, -0.009412918239831924, 0.010112335905432701, -0.01445799507200718, 0.0006232648738659918, -0.014501417987048626, -0.022245410829782486, 0.012099704705178738, 0.06306653469800949, 0.010197062976658344, -0.003527460852637887, -0.06647589057683945, -0.04150795191526413, 0.011477452702820301, -0.02332746982574463, -0.015775298699736595, -0.01285470463335514, 0.04139639064669609, -0.08883651345968246, -0.0610559843480587, 0.01978505402803421, 0.02978070080280304, -0.011814014986157417, -0.013625435531139374, 0.01488154660910368, -0.006624398287385702, -0.02028452232480049, -0.04492565244436264, 0.0508614145219326, -0.09515940397977829, 0.04548509418964386, -0.015341810882091522, 0.009255198761820793, 0.029297666624188423, 0.0006453125970438123, -0.05377146601676941, -0.030193055048584938, 0.049345552921295166, 0.013032625429332256, -0.05982194095849991, 0.02369389310479164, 0.006281894166022539, 0.009056354872882366, -0.042897433042526245, -0.003460827050730586, -0.01480208057910204, -0.00999494455754757, 0.002072373405098915, -0.013625471852719784, 0.016416728496551514, -0.017618713900446892, 0.028238676488399506, 0.06451840698719025, -0.03969890996813774, 0.006770983804017305, -0.0518888421356678, -0.0006436121184378862, 0.03319038078188896, -0.004814425949007273, -0.030464960262179375, -0.013998284935951233, 0.001844113110564649, -0.017206238582730293, 0.01766142249107361, 0.002164980163797736, -0.005564779508858919, -0.0052491528913378716, -0.04812869057059288, -0.020587626844644547, 0.038243912160396576, 0.00479172682389617, -0.016228796914219856, -0.049890100955963135, 0.05374506488442421, -0.0021830392070114613, 0.05260609835386276, -0.021581321954727173, -0.028419647365808487, 0.03660443052649498, 0.0114595303311944, -0.02734357677400112, -0.007734615355730057, 0.030871093273162842, 9.85681326710619e-05, 0.018031630665063858, 0.05117352306842804, 0.00040830319630913436, 0.024813536554574966, 0.058109134435653687, 0.07696037739515305, 0.04692564159631729, -0.011873738840222359, 0.05224320665001869, -0.05485554784536362, -0.010130159556865692, -0.048983100801706314, -0.01003048475831747, 0.009824616834521294, 0.018618570640683174, 0.0026250455994158983, -0.05097642168402672, 0.03562823683023453, 0.011057703755795956, -0.04107275977730751, -0.0327947698533535, 0.032209835946559906, -0.049455426633358, 0.021319197490811348, 0.027889283373951912, -0.05160560458898544, 0.041031572967767715, -0.0416606143116951, -0.013205376453697681, 0.016565559431910515, 0.012058041989803314, 0.04279287904500961, 0.006182927638292313, 0.0340401791036129, -0.01110649760812521, -0.0088062584400177, 0.06098350137472153, 0.09046000242233276, 0.004034580662846565, 0.008678351528942585, -0.05359950661659241, 0.0551699623465538, 0.03784599527716637, -0.021237889304757118, -0.048092279583215714, 0.021415604278445244, 0.01377293560653925, -0.06572605669498444, -0.0020170409698039293, 0.025600383058190346, 0.006832120008766651, -0.05032767727971077, 0.05382606014609337, 0.038790758699178696, -0.05041671544313431, -0.02672569267451763, -0.00019180715025868267, -0.041122566908597946, 0.010633107274770737, 0.01275000162422657, 0.016271935775876045, -0.04078393056988716, 0.0767354741692543, 0.045999277383089066, 0.03640180081129074, 0.0755908265709877, -0.013761096633970737, -0.00047930414439179003, 0.02277858555316925, 0.06380429863929749, 0.04848548397421837, 0.004071359988301992, 0.01736006885766983, 0.06367466598749161, 0.006187369581311941, -0.061873387545347214, 0.03492126986384392, -0.026470083743333817, 0.05969161540269852, 0.04291287809610367, 0.01833028346300125, 0.04514260217547417, 0.017225297167897224, 0.053704410791397095, -0.020868554711341858, 0.0003236921620555222, 0.01871877908706665, -0.0165407694876194, 0.049279823899269104, 0.004260627552866936, 0.052395179867744446, -0.0001724909816402942, -0.04615641012787819, -0.0639224648475647, 0.02554597333073616, -0.023751521483063698, -0.017322512343525887, -0.002509200945496559, -0.04099157080054283, -0.003825885010883212, 0.004502223338931799, 0.007490646094083786, 0.0801866352558136, 0.021242767572402954, 0.015340139158070087, -0.028364144265651703, 0.024013906717300415, -0.02195524238049984, 0.0091962656006217, 0.02824828401207924, 0.005517728626728058, 0.030117865651845932, -0.007680916227400303, -0.0004737803537864238, 0.002969671506434679, -0.03136024251580238, 0.005256626754999161, 0.0035981943365186453, -0.014679142273962498, 0.03392832726240158, 0.024460507556796074, 0.008860759437084198, -0.08155753463506699, -0.03407301753759384, -0.026076262816786766, -0.0361165888607502, 0.018534542992711067, 0.005018182564526796, -0.030549846589565277, -0.045665230602025986, -0.0023790374398231506, -0.0022769940551370382, 0.014809414744377136, -0.030638165771961212, -0.05150539427995682, -0.04875803738832474, 0.04650324955582619, 0.0771939679980278, 0.0644938200712204, 0.05509420856833458, 0.072030209004879, -0.009461499750614166, 0.007504576351493597, -0.006424565799534321, 0.0008122944855131209, 0.06669477373361588, 0.010437723249197006, 0.012835510075092316, -0.05376005172729492, 0.024937978014349937, 0.021054653450846672, 0.04121294990181923, -0.0944487452507019, 0.031171469017863274, -0.039964459836483, -0.029262954369187355, 0.04298713058233261, -0.002833842532709241, 0.028777142986655235, 0.00016884294745977968, 0.024233350530266762, -0.011138654313981533, -0.040416836738586426, 0.04340262711048126, -0.04444504901766777, 0.037425391376018524, 0.01633741520345211, 0.020398180931806564, -0.021518221125006676, 0.04199737682938576, -0.002350941998884082, 0.02507929317653179, -0.04095129668712616, -0.04619394615292549, -0.02816261351108551, -0.10395995527505875, -0.00857286062091589, 0.02208135835826397, -0.0066726733930408955, -0.10283876210451126, 0.00414468627423048, -0.00167323206551373, 0.001424684771336615, -0.0227095615118742, 0.005083657801151276, 0.0399547778069973, -0.048815492540597916, -0.017922233790159225, -0.03593093901872635, 0.015834441408514977, 0.0035131610929965973, -0.03800709918141365, -0.01830606535077095, -0.024073874577879906, -0.0020485413260757923, -0.02746153622865677, -0.027507079765200615, -0.017872733995318413, 0.019418561831116676, -0.0023246074561029673]}\n",
      "None\n"
     ]
    },
    {
     "name": "stderr",
     "output_type": "stream",
     "text": [
      "\u001b[36m(MapWorker(FlatMap(extract_sections)->FlatMap(partial)->MapBatches(Embeddings)) pid=70459)\u001b[0m /Users/vipulsarode/anaconda3/lib/python3.11/multiprocessing/resource_tracker.py:224: UserWarning: resource_tracker: There appear to be 1 leaked semaphore objects to clean up at shutdown\n",
      "\u001b[36m(MapWorker(FlatMap(extract_sections)->FlatMap(partial)->MapBatches(Embeddings)) pid=70459)\u001b[0m   warnings.warn('resource_tracker: There appear to be %d '\n"
     ]
    }
   ],
   "source": [
    "print(embedded_chunks.show(1))"
   ]
  },
  {
   "cell_type": "code",
   "execution_count": 16,
   "metadata": {},
   "outputs": [],
   "source": [
    "class StoreResults:\n",
    "    def __call__(self, batch):\n",
    "        with psycopg.connect(os.environ[\"DB_CONNECTION_STRING\"]) as conn:\n",
    "            register_vector(conn)\n",
    "            with conn.cursor() as cur:\n",
    "                for text, source, embedding in zip(batch[\"text\"], batch[\"source\"], batch[\"embeddings\"]):\n",
    "                    cur.execute(\"INSERT INTO document (text, source, embedding) VALUES (%s, %s, %s)\", (text, source, embedding,),)\n",
    "        return {}"
   ]
  },
  {
   "cell_type": "code",
   "execution_count": 17,
   "metadata": {},
   "outputs": [
    {
     "name": "stderr",
     "output_type": "stream",
     "text": [
      "2024-10-02 20:49:29,752\tINFO streaming_executor.py:108 -- Starting execution of Dataset. Full logs are in /tmp/ray/session_2024-10-02_20-38-53_197114_69991/logs/ray-data\n",
      "2024-10-02 20:49:29,764\tINFO streaming_executor.py:109 -- Execution plan of Dataset: InputDataBuffer[Input] -> ActorPoolMapOperator[FlatMap(extract_sections)->FlatMap(partial)->MapBatches(Embeddings)] -> ActorPoolMapOperator[MapBatches(StoreResults)]\n"
     ]
    },
    {
     "data": {
      "application/vnd.jupyter.widget-view+json": {
       "model_id": "81bbac62c8384ebaa43cd18eb88ecb65",
       "version_major": 2,
       "version_minor": 0
      },
      "text/plain": [
       "Running 0: 0.00 row [00:00, ? row/s]"
      ]
     },
     "metadata": {},
     "output_type": "display_data"
    },
    {
     "data": {
      "application/vnd.jupyter.widget-view+json": {
       "model_id": "a283ca59c97040adb121709b0d29ebd7",
       "version_major": 2,
       "version_minor": 0
      },
      "text/plain": [
       "- FlatMap(extract_sections)->FlatMap(partial)->MapBatches(Embeddings) 1: 0.00 row [00:00, ? row/s]"
      ]
     },
     "metadata": {},
     "output_type": "display_data"
    },
    {
     "data": {
      "application/vnd.jupyter.widget-view+json": {
       "model_id": "c55d601a87294a5a8a8c7beee0a2d97f",
       "version_major": 2,
       "version_minor": 0
      },
      "text/plain": [
       "- MapBatches(StoreResults) 2: 0.00 row [00:00, ? row/s]"
      ]
     },
     "metadata": {},
     "output_type": "display_data"
    },
    {
     "name": "stderr",
     "output_type": "stream",
     "text": [
      "2024-10-02 20:49:49,536\tERROR streaming_executor_state.py:469 -- An exception was raised from a task of operator \"MapBatches(StoreResults)\". Dataset execution will now abort. To ignore this exception and continue, set DataContext.max_errored_blocks.\n",
      "2024-10-02 20:49:49,542\tWARNING actor_pool_map_operator.py:265 -- To ensure full parallelization across an actor pool of size 2, the Dataset should consist of at least 2 distinct blocks. Consider increasing the parallelism when creating the Dataset.\n",
      "2024-10-02 20:49:49,545\tWARNING actor_pool_map_operator.py:265 -- To ensure full parallelization across an actor pool of size 2, the Dataset should consist of at least 2 distinct blocks. Consider increasing the parallelism when creating the Dataset.\n",
      "2024-10-02 20:49:49,553\tERROR exceptions.py:63 -- Exception occurred in user code, with the abbreviated stack trace below. By default, the Ray Data internal stack trace is omitted from stdout, and only written to the Ray Data log files at /tmp/ray/session_2024-10-02_20-38-53_197114_69991/logs/ray-data. To output the full stack trace to stdout, set `DataContext.log_internal_stack_trace_to_stdout` to True.\n",
      "\u001b[36m(MapWorker(FlatMap(extract_sections)->FlatMap(partial)->MapBatches(Embeddings)) pid=72817)\u001b[0m /Users/vipulsarode/anaconda3/lib/python3.11/multiprocessing/resource_tracker.py:224: UserWarning: resource_tracker: There appear to be 1 leaked semaphore objects to clean up at shutdown\n",
      "\u001b[36m(MapWorker(FlatMap(extract_sections)->FlatMap(partial)->MapBatches(Embeddings)) pid=72817)\u001b[0m   warnings.warn('resource_tracker: There appear to be %d '\n"
     ]
    },
    {
     "ename": "RayTaskError(UserCodeException)",
     "evalue": "\u001b[36mray::MapBatches(StoreResults)()\u001b[39m (pid=72847, ip=127.0.0.1, actor_id=8b66d4632abb07af7e7f770a01000000, repr=MapWorker(MapBatches(StoreResults)))\n           ^^^^^^^^^^^^^^^^^^^^^^^^^^^^^^^^^^^^^^^\n  File \"/Users/vipulsarode/anaconda3/lib/python3.11/site-packages/ray/data/_internal/execution/util.py\", line 78, in __call__\n    return future.result()\n           ^^^^^^^^^^^^^^^\n  File \"/Users/vipulsarode/anaconda3/lib/python3.11/concurrent/futures/_base.py\", line 449, in result\n    return self.__get_result()\n           ^^^^^^^^^^^^^^^^^^^\n  File \"/Users/vipulsarode/anaconda3/lib/python3.11/concurrent/futures/_base.py\", line 401, in __get_result\n    raise self._exception\n  File \"/Users/vipulsarode/anaconda3/lib/python3.11/concurrent/futures/thread.py\", line 58, in run\n    result = self.fn(*self.args, **self.kwargs)\n             ^^^^^^^^^^^^^^^^^^^^^^^^^^^^^^^^^^\n  File \"/var/folders/pz/bcj1fwv130d2771y76qjg5780000gn/T/ipykernel_70165/2009609690.py\", line 3, in __call__\n  File \"<frozen os>\", line 679, in __getitem__\nKeyError: 'DB_CONNECTION_STRING'\n\nThe above exception was the direct cause of the following exception:\n\n\u001b[36mray::MapBatches(StoreResults)()\u001b[39m (pid=72847, ip=127.0.0.1, actor_id=8b66d4632abb07af7e7f770a01000000, repr=MapWorker(MapBatches(StoreResults)))\n  File \"/Users/vipulsarode/anaconda3/lib/python3.11/site-packages/ray/data/_internal/execution/operators/actor_pool_map_operator.py\", line 371, in submit\n    yield from _map_task(\n  File \"/Users/vipulsarode/anaconda3/lib/python3.11/site-packages/ray/data/_internal/execution/operators/map_operator.py\", line 461, in _map_task\n    for b_out in map_transformer.apply_transform(iter(blocks), ctx):\n  File \"/Users/vipulsarode/anaconda3/lib/python3.11/site-packages/ray/data/_internal/execution/operators/map_transformer.py\", line 392, in __call__\n    for data in iter:\n  File \"/Users/vipulsarode/anaconda3/lib/python3.11/site-packages/ray/data/_internal/execution/operators/map_transformer.py\", line 134, in _udf_timed_iter\n    output = next(input)\n             ^^^^^^^^^^^\n  File \"/Users/vipulsarode/anaconda3/lib/python3.11/site-packages/ray/data/_internal/execution/operators/map_transformer.py\", line 236, in __call__\n    yield from self._batch_fn(input, ctx)\n  File \"/Users/vipulsarode/anaconda3/lib/python3.11/site-packages/ray/data/_internal/planner/plan_udf_map_op.py\", line 282, in transform_fn\n    res = fn(batch)\n          ^^^^^^^^^\n  File \"/Users/vipulsarode/anaconda3/lib/python3.11/site-packages/ray/data/_internal/planner/plan_udf_map_op.py\", line 186, in fn\n    _handle_debugger_exception(e)\n  File \"/Users/vipulsarode/anaconda3/lib/python3.11/site-packages/ray/data/_internal/planner/plan_udf_map_op.py\", line 210, in _handle_debugger_exception\n    raise UserCodeException() from e\nray.exceptions.UserCodeException",
     "output_type": "error",
     "traceback": [
      "\u001b[0;31m---------------------------------------------------------------------------\u001b[0m",
      "\u001b[0;31mRayTaskError(UserCodeException)\u001b[0m           Traceback (most recent call last)",
      "Cell \u001b[0;32mIn[17], line 1\u001b[0m\n\u001b[0;32m----> 1\u001b[0m embedded_chunks\u001b[38;5;241m.\u001b[39mmap_batches(StoreResults, batch_size \u001b[38;5;241m=\u001b[39m \u001b[38;5;241m128\u001b[39m, concurrency \u001b[38;5;241m=\u001b[39m \u001b[38;5;241m2\u001b[39m, num_cpus \u001b[38;5;241m=\u001b[39m \u001b[38;5;241m1\u001b[39m, num_gpus \u001b[38;5;241m=\u001b[39m \u001b[38;5;241m0\u001b[39m)\u001b[38;5;241m.\u001b[39mcount()\n",
      "File \u001b[0;32m~/anaconda3/lib/python3.11/site-packages/ray/data/dataset.py:2538\u001b[0m, in \u001b[0;36mDataset.count\u001b[0;34m(self)\u001b[0m\n\u001b[1;32m   2535\u001b[0m \u001b[38;5;66;03m# Directly loop over the iterator of `RefBundle`s instead of\u001b[39;00m\n\u001b[1;32m   2536\u001b[0m \u001b[38;5;66;03m# retrieving a full list of `BlockRef`s.\u001b[39;00m\n\u001b[1;32m   2537\u001b[0m total_rows \u001b[38;5;241m=\u001b[39m \u001b[38;5;241m0\u001b[39m\n\u001b[0;32m-> 2538\u001b[0m \u001b[38;5;28;01mfor\u001b[39;00m ref_bundle \u001b[38;5;129;01min\u001b[39;00m \u001b[38;5;28mself\u001b[39m\u001b[38;5;241m.\u001b[39miter_internal_ref_bundles():\n\u001b[1;32m   2539\u001b[0m     num_rows \u001b[38;5;241m=\u001b[39m ref_bundle\u001b[38;5;241m.\u001b[39mnum_rows()\n\u001b[1;32m   2540\u001b[0m     \u001b[38;5;66;03m# Executing the dataset always returns blocks with valid `num_rows`.\u001b[39;00m\n",
      "File \u001b[0;32m~/anaconda3/lib/python3.11/site-packages/ray/data/dataset.py:4728\u001b[0m, in \u001b[0;36mDataset.iter_internal_ref_bundles\u001b[0;34m(self)\u001b[0m\n\u001b[1;32m   4710\u001b[0m \u001b[38;5;129m@ConsumptionAPI\u001b[39m(pattern\u001b[38;5;241m=\u001b[39m\u001b[38;5;124m\"\u001b[39m\u001b[38;5;124mExamples:\u001b[39m\u001b[38;5;124m\"\u001b[39m)\n\u001b[1;32m   4711\u001b[0m \u001b[38;5;129m@DeveloperAPI\u001b[39m\n\u001b[1;32m   4712\u001b[0m \u001b[38;5;28;01mdef\u001b[39;00m \u001b[38;5;21miter_internal_ref_bundles\u001b[39m(\u001b[38;5;28mself\u001b[39m) \u001b[38;5;241m-\u001b[39m\u001b[38;5;241m>\u001b[39m Iterator[RefBundle]:\n\u001b[1;32m   4713\u001b[0m \u001b[38;5;250m    \u001b[39m\u001b[38;5;124;03m\"\"\"Get an iterator over ``RefBundles``\u001b[39;00m\n\u001b[1;32m   4714\u001b[0m \u001b[38;5;124;03m    belonging to this Dataset. Calling this function doesn't keep\u001b[39;00m\n\u001b[1;32m   4715\u001b[0m \u001b[38;5;124;03m    the data materialized in-memory.\u001b[39;00m\n\u001b[0;32m   (...)\u001b[0m\n\u001b[1;32m   4725\u001b[0m \u001b[38;5;124;03m        An iterator over this Dataset's ``RefBundles``.\u001b[39;00m\n\u001b[1;32m   4726\u001b[0m \u001b[38;5;124;03m    \"\"\"\u001b[39;00m\n\u001b[0;32m-> 4728\u001b[0m     iter_ref_bundles, _, _ \u001b[38;5;241m=\u001b[39m \u001b[38;5;28mself\u001b[39m\u001b[38;5;241m.\u001b[39m_plan\u001b[38;5;241m.\u001b[39mexecute_to_iterator()\n\u001b[1;32m   4729\u001b[0m     \u001b[38;5;28mself\u001b[39m\u001b[38;5;241m.\u001b[39m_synchronize_progress_bar()\n\u001b[1;32m   4730\u001b[0m     \u001b[38;5;28;01mreturn\u001b[39;00m iter_ref_bundles\n",
      "File \u001b[0;32m~/anaconda3/lib/python3.11/site-packages/ray/data/exceptions.py:87\u001b[0m, in \u001b[0;36momit_traceback_stdout.<locals>.handle_trace\u001b[0;34m(*args, **kwargs)\u001b[0m\n\u001b[1;32m     81\u001b[0m logger\u001b[38;5;241m.\u001b[39mexception(\n\u001b[1;32m     82\u001b[0m     \u001b[38;5;124m\"\u001b[39m\u001b[38;5;124mFull stack trace:\u001b[39m\u001b[38;5;124m\"\u001b[39m,\n\u001b[1;32m     83\u001b[0m     exc_info\u001b[38;5;241m=\u001b[39m\u001b[38;5;28;01mTrue\u001b[39;00m,\n\u001b[1;32m     84\u001b[0m     extra\u001b[38;5;241m=\u001b[39m{\u001b[38;5;124m\"\u001b[39m\u001b[38;5;124mhide\u001b[39m\u001b[38;5;124m\"\u001b[39m: should_hide_traceback},\n\u001b[1;32m     85\u001b[0m )\n\u001b[1;32m     86\u001b[0m \u001b[38;5;28;01mif\u001b[39;00m is_user_code_exception:\n\u001b[0;32m---> 87\u001b[0m     \u001b[38;5;28;01mraise\u001b[39;00m e\u001b[38;5;241m.\u001b[39mwith_traceback(\u001b[38;5;28;01mNone\u001b[39;00m)\n\u001b[1;32m     88\u001b[0m \u001b[38;5;28;01melse\u001b[39;00m:\n\u001b[1;32m     89\u001b[0m     \u001b[38;5;28;01mraise\u001b[39;00m e\u001b[38;5;241m.\u001b[39mwith_traceback(\u001b[38;5;28;01mNone\u001b[39;00m) \u001b[38;5;28;01mfrom\u001b[39;00m \u001b[38;5;21;01mSystemException\u001b[39;00m()\n",
      "\u001b[0;31mRayTaskError(UserCodeException)\u001b[0m: \u001b[36mray::MapBatches(StoreResults)()\u001b[39m (pid=72847, ip=127.0.0.1, actor_id=8b66d4632abb07af7e7f770a01000000, repr=MapWorker(MapBatches(StoreResults)))\n           ^^^^^^^^^^^^^^^^^^^^^^^^^^^^^^^^^^^^^^^\n  File \"/Users/vipulsarode/anaconda3/lib/python3.11/site-packages/ray/data/_internal/execution/util.py\", line 78, in __call__\n    return future.result()\n           ^^^^^^^^^^^^^^^\n  File \"/Users/vipulsarode/anaconda3/lib/python3.11/concurrent/futures/_base.py\", line 449, in result\n    return self.__get_result()\n           ^^^^^^^^^^^^^^^^^^^\n  File \"/Users/vipulsarode/anaconda3/lib/python3.11/concurrent/futures/_base.py\", line 401, in __get_result\n    raise self._exception\n  File \"/Users/vipulsarode/anaconda3/lib/python3.11/concurrent/futures/thread.py\", line 58, in run\n    result = self.fn(*self.args, **self.kwargs)\n             ^^^^^^^^^^^^^^^^^^^^^^^^^^^^^^^^^^\n  File \"/var/folders/pz/bcj1fwv130d2771y76qjg5780000gn/T/ipykernel_70165/2009609690.py\", line 3, in __call__\n  File \"<frozen os>\", line 679, in __getitem__\nKeyError: 'DB_CONNECTION_STRING'\n\nThe above exception was the direct cause of the following exception:\n\n\u001b[36mray::MapBatches(StoreResults)()\u001b[39m (pid=72847, ip=127.0.0.1, actor_id=8b66d4632abb07af7e7f770a01000000, repr=MapWorker(MapBatches(StoreResults)))\n  File \"/Users/vipulsarode/anaconda3/lib/python3.11/site-packages/ray/data/_internal/execution/operators/actor_pool_map_operator.py\", line 371, in submit\n    yield from _map_task(\n  File \"/Users/vipulsarode/anaconda3/lib/python3.11/site-packages/ray/data/_internal/execution/operators/map_operator.py\", line 461, in _map_task\n    for b_out in map_transformer.apply_transform(iter(blocks), ctx):\n  File \"/Users/vipulsarode/anaconda3/lib/python3.11/site-packages/ray/data/_internal/execution/operators/map_transformer.py\", line 392, in __call__\n    for data in iter:\n  File \"/Users/vipulsarode/anaconda3/lib/python3.11/site-packages/ray/data/_internal/execution/operators/map_transformer.py\", line 134, in _udf_timed_iter\n    output = next(input)\n             ^^^^^^^^^^^\n  File \"/Users/vipulsarode/anaconda3/lib/python3.11/site-packages/ray/data/_internal/execution/operators/map_transformer.py\", line 236, in __call__\n    yield from self._batch_fn(input, ctx)\n  File \"/Users/vipulsarode/anaconda3/lib/python3.11/site-packages/ray/data/_internal/planner/plan_udf_map_op.py\", line 282, in transform_fn\n    res = fn(batch)\n          ^^^^^^^^^\n  File \"/Users/vipulsarode/anaconda3/lib/python3.11/site-packages/ray/data/_internal/planner/plan_udf_map_op.py\", line 186, in fn\n    _handle_debugger_exception(e)\n  File \"/Users/vipulsarode/anaconda3/lib/python3.11/site-packages/ray/data/_internal/planner/plan_udf_map_op.py\", line 210, in _handle_debugger_exception\n    raise UserCodeException() from e\nray.exceptions.UserCodeException"
     ]
    }
   ],
   "source": [
    "embedded_chunks.map_batches(StoreResults, batch_size = 128, concurrency = 2, num_cpus = 1, num_gpus = 0).count()"
   ]
  },
  {
   "cell_type": "code",
   "execution_count": null,
   "metadata": {},
   "outputs": [],
   "source": []
  }
 ],
 "metadata": {
  "kernelspec": {
   "display_name": "base",
   "language": "python",
   "name": "python3"
  },
  "language_info": {
   "codemirror_mode": {
    "name": "ipython",
    "version": 3
   },
   "file_extension": ".py",
   "mimetype": "text/x-python",
   "name": "python",
   "nbconvert_exporter": "python",
   "pygments_lexer": "ipython3",
   "version": "3.11.5"
  }
 },
 "nbformat": 4,
 "nbformat_minor": 2
}
